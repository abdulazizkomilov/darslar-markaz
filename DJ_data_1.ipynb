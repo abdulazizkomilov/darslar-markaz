{
  "nbformat": 4,
  "nbformat_minor": 0,
  "metadata": {
    "colab": {
      "name": "DJ_data_1.ipynb",
      "provenance": [],
      "authorship_tag": "ABX9TyOzM/c6DR5kzRG7CPuc7ejQ",
      "include_colab_link": true
    },
    "kernelspec": {
      "name": "python3",
      "display_name": "Python 3"
    },
    "language_info": {
      "name": "python"
    }
  },
  "cells": [
    {
      "cell_type": "markdown",
      "metadata": {
        "id": "view-in-github",
        "colab_type": "text"
      },
      "source": [
        "<a href=\"https://colab.research.google.com/github/abdulazizkomilov/darslar-markaz/blob/main/DJ_data_1.ipynb\" target=\"_parent\"><img src=\"https://colab.research.google.com/assets/colab-badge.svg\" alt=\"Open In Colab\"/></a>"
      ]
    },
    {
      "cell_type": "markdown",
      "source": [
        "# Models uchun kerakli malumotlar\n",
        "\n",
        "**from django.urls import reverse # reverse urlni tekshiradi**\n",
        "\n",
        "\n",
        "**title = models.CharField(max_length=200)**\n",
        "\n",
        "**body = models.TextField()**\n",
        "\n",
        "# Agar user uchirilsa postlari ham o`chishi uchun\n",
        "**author = models.ForeignKey(**\n",
        ">**'auth.User',**\\\n",
        ">**on_delete = models.CASCADE**\n",
        "\n",
        "**)**\n",
        "\n",
        "# funksiya nomini qaytarish\n",
        "\n",
        "**def __str__(self):**\n",
        ">return self.title   (`yoki kormoqchi bo'lgan malumotiz`)\n",
        "\n",
        "# Postlarni detailda ko'rish uchun `pk`\n",
        "def get_absolute_url(self):\n",
        ">return reverse('post_detail', args=[str(self.pk)])\n",
        "\n",
        "# urls.py uchun malumotlar\n",
        "\n",
        "urlpatterns = [\n",
        ">path('', BlogListView.as_view(), name='home')\\\n",
        ">path('post/`<int:pk>`/detail', DetailListView.as_view(), name='detail')\\\n",
        ">...\n",
        "]\n",
        "\n",
        "# admin.py\n",
        "from .models import Post `# bu yangi yasagan modelimiz`\n",
        "\n",
        "**admin.site.register(Post)**  `# bu admin panelda model ko'rinishi uchun`"
      ],
      "metadata": {
        "id": "JZg89ai8Rcit"
      }
    }
  ]
}