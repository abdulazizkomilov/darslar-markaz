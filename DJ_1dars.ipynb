{
  "nbformat": 4,
  "nbformat_minor": 0,
  "metadata": {
    "colab": {
      "name": "DJ_1dars.ipynb",
      "provenance": [],
      "authorship_tag": "ABX9TyOCHkiuWAhh6Z4ZWf8/SHmj",
      "include_colab_link": true
    },
    "kernelspec": {
      "name": "python3",
      "display_name": "Python 3"
    },
    "language_info": {
      "name": "python"
    }
  },
  "cells": [
    {
      "cell_type": "markdown",
      "metadata": {
        "id": "view-in-github",
        "colab_type": "text"
      },
      "source": [
        "<a href=\"https://colab.research.google.com/github/abdulazizkomilov/darslar-markaz/blob/main/DJ_1dars.ipynb\" target=\"_parent\"><img src=\"https://colab.research.google.com/assets/colab-badge.svg\" alt=\"Open In Colab\"/></a>"
      ]
    },
    {
      "cell_type": "markdown",
      "source": [
        "# YANGI LOYIHA YARATAMIZ\n",
        "\n",
        "*   mkdir newsProject\n",
        "\n",
        "*   cd newsProject\n",
        "*   pipenv install django\n",
        "\n",
        "\n",
        "*   pipenv shell\n",
        "\n",
        "*   django-admin startproject config .\n",
        "*   python manage.py startapp news\n",
        "---\n",
        "\n",
        "\n",
        "\n",
        "```\n",
        "# Asosiy loyiha (config)\n",
        "# settings.py\n",
        "```\n",
        "\n",
        "\n",
        "```\n",
        "# import os\n",
        "...\n",
        "\n",
        "# INSTALLED_APPS = [\n",
        "  ...\n",
        "  'your_app_1',\n",
        "  'your_app_2',\n",
        "  ...\n",
        "]\n",
        "\n",
        "TEMPLATES = [\n",
        "    {\n",
        "        ...,\n",
        "\n",
        "        'DIRS': [os.path.join(BASE_DIR, 'templates')],\n",
        "        ...,\n",
        "      ...,\n",
        "    }\n",
        "]\n",
        "```\n",
        "\n",
        "\n",
        "\n",
        "```\n",
        "# config/urls.py\n",
        "```\n",
        "\n",
        "\n",
        "```\n",
        "# from django.urls import path, include\n",
        "# from .views import HomeView\n",
        "\n",
        "urlpatterns = [\n",
        "    ...,\n",
        "\n",
        "    path('', HomeView.as_view(), name='home'), # siz qo`shasiz \n",
        "    ...,\n",
        "]\n",
        "```\n",
        "\n",
        "\n",
        "```\n",
        "# config/views.py\n",
        "\n",
        "```\n",
        "```\n",
        "# from django.views.generic import TemplateView, View\n",
        "# from django.shortcuts import redirect, render, get_object_or_404, redirect\n",
        "# from django.core.paginator import Paginator\n",
        "\n",
        "class HomeView(View):\n",
        "    template_name = 'home.html'\n",
        "```\n",
        "\n",
        "\n",
        "\n",
        "\n",
        "\n",
        "\n",
        "\n",
        "\n",
        "\n",
        "\n"
      ],
      "metadata": {
        "id": "KZi9XwXaJ1QR"
      }
    }
  ]
}